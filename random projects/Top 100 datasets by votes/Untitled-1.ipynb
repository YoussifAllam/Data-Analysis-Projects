{
 "cells": [
  {
   "cell_type": "code",
   "execution_count": 60,
   "metadata": {},
   "outputs": [],
   "source": [
    "import numpy as np \n",
    "import pandas as pd\n",
    "import matplotlib.pyplot as plt\n"
   ]
  },
  {
   "cell_type": "markdown",
   "metadata": {},
   "source": [
    "# Load Data"
   ]
  },
  {
   "cell_type": "code",
   "execution_count": 61,
   "metadata": {},
   "outputs": [],
   "source": [
    "df = pd.read_csv(r\"D:\\ML\\Data analysis projects\\random projects\\Top 100 datasets by votes\\kaggle-preprocessed.csv\")"
   ]
  },
  {
   "cell_type": "code",
   "execution_count": 62,
   "metadata": {},
   "outputs": [
    {
     "data": {
      "text/html": [
       "<div>\n",
       "<style scoped>\n",
       "    .dataframe tbody tr th:only-of-type {\n",
       "        vertical-align: middle;\n",
       "    }\n",
       "\n",
       "    .dataframe tbody tr th {\n",
       "        vertical-align: top;\n",
       "    }\n",
       "\n",
       "    .dataframe thead th {\n",
       "        text-align: right;\n",
       "    }\n",
       "</style>\n",
       "<table border=\"1\" class=\"dataframe\">\n",
       "  <thead>\n",
       "    <tr style=\"text-align: right;\">\n",
       "      <th></th>\n",
       "      <th>Unnamed: 0</th>\n",
       "      <th>Dataset_name</th>\n",
       "      <th>Author_name</th>\n",
       "      <th>Author_id</th>\n",
       "      <th>No_of_files</th>\n",
       "      <th>size</th>\n",
       "      <th>Type_of_file</th>\n",
       "      <th>Upvotes</th>\n",
       "      <th>Medals</th>\n",
       "      <th>Usability</th>\n",
       "      <th>Date</th>\n",
       "      <th>Day</th>\n",
       "      <th>Time</th>\n",
       "      <th>Dataset_link</th>\n",
       "    </tr>\n",
       "  </thead>\n",
       "  <tbody>\n",
       "    <tr>\n",
       "      <th>0</th>\n",
       "      <td>0</td>\n",
       "      <td>Hotel Reservations Dataset</td>\n",
       "      <td>Ahsan Raza</td>\n",
       "      <td>https://www.kaggle.com/ahsan81</td>\n",
       "      <td>1</td>\n",
       "      <td>491 kB</td>\n",
       "      <td>CSV</td>\n",
       "      <td>315</td>\n",
       "      <td>Silver</td>\n",
       "      <td>10.0</td>\n",
       "      <td>1/04/2023</td>\n",
       "      <td>Wed</td>\n",
       "      <td>18:20:31</td>\n",
       "      <td>https://www.kaggle.com/datasets/ahsan81/hotel-...</td>\n",
       "    </tr>\n",
       "    <tr>\n",
       "      <th>1</th>\n",
       "      <td>2</td>\n",
       "      <td>Most Subscribed 1000 Youtube Channels</td>\n",
       "      <td>Mrityunjay Pathak</td>\n",
       "      <td>https://www.kaggle.com/themrityunjaypathak</td>\n",
       "      <td>1</td>\n",
       "      <td>29 kB</td>\n",
       "      <td>CSV</td>\n",
       "      <td>76</td>\n",
       "      <td>Bronze</td>\n",
       "      <td>10.0</td>\n",
       "      <td>1/21/2023</td>\n",
       "      <td>Sat</td>\n",
       "      <td>20:12:05</td>\n",
       "      <td>https://www.kaggle.com/datasets/themrityunjayp...</td>\n",
       "    </tr>\n",
       "    <tr>\n",
       "      <th>2</th>\n",
       "      <td>3</td>\n",
       "      <td>Olympics 124 years Dataset(till 2020)</td>\n",
       "      <td>Nitish Sharma01</td>\n",
       "      <td>https://www.kaggle.com/nitishsharma01</td>\n",
       "      <td>3</td>\n",
       "      <td>5 MB</td>\n",
       "      <td>CSV</td>\n",
       "      <td>30</td>\n",
       "      <td>Bronze</td>\n",
       "      <td>10.0</td>\n",
       "      <td>2/01/2023</td>\n",
       "      <td>Wed</td>\n",
       "      <td>14:30:49</td>\n",
       "      <td>https://www.kaggle.com/datasets/nitishsharma01...</td>\n",
       "    </tr>\n",
       "    <tr>\n",
       "      <th>3</th>\n",
       "      <td>4</td>\n",
       "      <td>Medical Student Mental Health</td>\n",
       "      <td>The Devastator</td>\n",
       "      <td>https://www.kaggle.com/thedevastator</td>\n",
       "      <td>2</td>\n",
       "      <td>19 kB</td>\n",
       "      <td>CSV</td>\n",
       "      <td>37</td>\n",
       "      <td>Bronze</td>\n",
       "      <td>10.0</td>\n",
       "      <td>1/25/2023</td>\n",
       "      <td>Wed</td>\n",
       "      <td>06:30:14</td>\n",
       "      <td>https://www.kaggle.com/datasets/thedevastator/...</td>\n",
       "    </tr>\n",
       "    <tr>\n",
       "      <th>4</th>\n",
       "      <td>5</td>\n",
       "      <td>Latest Netflix TV shows and movies</td>\n",
       "      <td>Senapati Rajesh</td>\n",
       "      <td>https://www.kaggle.com/senapatirajesh</td>\n",
       "      <td>1</td>\n",
       "      <td>1 MB</td>\n",
       "      <td>CSV</td>\n",
       "      <td>94</td>\n",
       "      <td>Bronze</td>\n",
       "      <td>9.4</td>\n",
       "      <td>1/14/2023</td>\n",
       "      <td>Sat</td>\n",
       "      <td>22:33:12</td>\n",
       "      <td>https://www.kaggle.com/datasets/senapatirajesh...</td>\n",
       "    </tr>\n",
       "  </tbody>\n",
       "</table>\n",
       "</div>"
      ],
      "text/plain": [
       "   Unnamed: 0                           Dataset_name        Author_name  \\\n",
       "0           0             Hotel Reservations Dataset         Ahsan Raza   \n",
       "1           2  Most Subscribed 1000 Youtube Channels  Mrityunjay Pathak   \n",
       "2           3  Olympics 124 years Dataset(till 2020)    Nitish Sharma01   \n",
       "3           4          Medical Student Mental Health     The Devastator   \n",
       "4           5     Latest Netflix TV shows and movies    Senapati Rajesh   \n",
       "\n",
       "                                    Author_id  No_of_files    size  \\\n",
       "0              https://www.kaggle.com/ahsan81            1  491 kB   \n",
       "1  https://www.kaggle.com/themrityunjaypathak            1   29 kB   \n",
       "2       https://www.kaggle.com/nitishsharma01            3    5 MB   \n",
       "3        https://www.kaggle.com/thedevastator            2   19 kB   \n",
       "4       https://www.kaggle.com/senapatirajesh            1    1 MB   \n",
       "\n",
       "  Type_of_file  Upvotes  Medals  Usability       Date  Day      Time  \\\n",
       "0          CSV      315  Silver       10.0  1/04/2023  Wed  18:20:31   \n",
       "1          CSV       76  Bronze       10.0  1/21/2023  Sat  20:12:05   \n",
       "2          CSV       30  Bronze       10.0  2/01/2023  Wed  14:30:49   \n",
       "3          CSV       37  Bronze       10.0  1/25/2023  Wed  06:30:14   \n",
       "4          CSV       94  Bronze        9.4  1/14/2023  Sat  22:33:12   \n",
       "\n",
       "                                        Dataset_link  \n",
       "0  https://www.kaggle.com/datasets/ahsan81/hotel-...  \n",
       "1  https://www.kaggle.com/datasets/themrityunjayp...  \n",
       "2  https://www.kaggle.com/datasets/nitishsharma01...  \n",
       "3  https://www.kaggle.com/datasets/thedevastator/...  \n",
       "4  https://www.kaggle.com/datasets/senapatirajesh...  "
      ]
     },
     "execution_count": 62,
     "metadata": {},
     "output_type": "execute_result"
    }
   ],
   "source": [
    "df.head()"
   ]
  },
  {
   "cell_type": "code",
   "execution_count": 63,
   "metadata": {},
   "outputs": [
    {
     "name": "stdout",
     "output_type": "stream",
     "text": [
      "<class 'pandas.core.frame.DataFrame'>\n",
      "RangeIndex: 9158 entries, 0 to 9157\n",
      "Data columns (total 14 columns):\n",
      " #   Column        Non-Null Count  Dtype  \n",
      "---  ------        --------------  -----  \n",
      " 0   Unnamed: 0    9158 non-null   int64  \n",
      " 1   Dataset_name  9158 non-null   object \n",
      " 2   Author_name   9158 non-null   object \n",
      " 3   Author_id     9158 non-null   object \n",
      " 4   No_of_files   9158 non-null   int64  \n",
      " 5   size          9158 non-null   object \n",
      " 6   Type_of_file  9156 non-null   object \n",
      " 7   Upvotes       9158 non-null   int64  \n",
      " 8   Medals        9158 non-null   object \n",
      " 9   Usability     9158 non-null   float64\n",
      " 10  Date          9158 non-null   object \n",
      " 11  Day           9158 non-null   object \n",
      " 12  Time          9158 non-null   object \n",
      " 13  Dataset_link  9158 non-null   object \n",
      "dtypes: float64(1), int64(3), object(10)\n",
      "memory usage: 1001.8+ KB\n"
     ]
    }
   ],
   "source": [
    "df.info()"
   ]
  },
  {
   "cell_type": "markdown",
   "metadata": {},
   "source": [
    "### drop all unwanted columns"
   ]
  },
  {
   "cell_type": "code",
   "execution_count": 64,
   "metadata": {},
   "outputs": [
    {
     "data": {
      "text/plain": [
       "Index(['Unnamed: 0', 'Dataset_name', 'size', 'Upvotes', 'Medals', 'Usability',\n",
       "       'Date'],\n",
       "      dtype='object')"
      ]
     },
     "execution_count": 64,
     "metadata": {},
     "output_type": "execute_result"
    }
   ],
   "source": [
    "df.drop(['Dataset_link' , 'Author_name' , 'Author_id' , 'No_of_files' , \n",
    "           'Type_of_file'  , 'Day' ,'Time' ] ,axis=1 ,  inplace=True)\n",
    "df.columns"
   ]
  },
  {
   "cell_type": "code",
   "execution_count": 65,
   "metadata": {},
   "outputs": [
    {
     "name": "stdout",
     "output_type": "stream",
     "text": [
      "<class 'pandas.core.frame.DataFrame'>\n",
      "RangeIndex: 9158 entries, 0 to 9157\n",
      "Data columns (total 7 columns):\n",
      " #   Column        Non-Null Count  Dtype  \n",
      "---  ------        --------------  -----  \n",
      " 0   Unnamed: 0    9158 non-null   int64  \n",
      " 1   Dataset_name  9158 non-null   object \n",
      " 2   size          9158 non-null   object \n",
      " 3   Upvotes       9158 non-null   int64  \n",
      " 4   Medals        9158 non-null   object \n",
      " 5   Usability     9158 non-null   float64\n",
      " 6   Date          9158 non-null   object \n",
      "dtypes: float64(1), int64(2), object(4)\n",
      "memory usage: 501.0+ KB\n"
     ]
    }
   ],
   "source": [
    "df.info()"
   ]
  },
  {
   "cell_type": "markdown",
   "metadata": {},
   "source": [
    "# Clean the data"
   ]
  },
  {
   "cell_type": "code",
   "execution_count": 66,
   "metadata": {},
   "outputs": [],
   "source": [
    "# convert date to actual dates like in dates dates\n",
    "df['Date'] = pd.to_datetime(df['Date'])"
   ]
  },
  {
   "cell_type": "code",
   "execution_count": 67,
   "metadata": {},
   "outputs": [],
   "source": [
    "def convert_to_mb(size):\n",
    "    size_in_lower = str(size).lower().strip()\n",
    "    \n",
    "    if 'mb' in size_in_lower:\n",
    "        size_in_mb = float(size_in_lower.split(\"mb\")[0].strip())\n",
    "    elif 'gb' in size_in_lower:\n",
    "        size_in_gb = float(size_in_lower.split(\"gb\")[0].strip())\n",
    "        size_in_mb = float(size_in_gb * 1024)\n",
    "    elif 'kb' in size_in_lower:\n",
    "        size_in_kb = float(size_in_lower.split(\"kb\")[0].strip())\n",
    "        size_in_mb = float(size_in_kb / 1024)\n",
    "    else:\n",
    "        size_in_mb = 0.0\n",
    "        \n",
    "    return size_in_mb"
   ]
  },
  {
   "cell_type": "markdown",
   "metadata": {},
   "source": [
    "# results"
   ]
  },
  {
   "cell_type": "code",
   "execution_count": 68,
   "metadata": {},
   "outputs": [
    {
     "data": {
      "text/html": [
       "<div>\n",
       "<style scoped>\n",
       "    .dataframe tbody tr th:only-of-type {\n",
       "        vertical-align: middle;\n",
       "    }\n",
       "\n",
       "    .dataframe tbody tr th {\n",
       "        vertical-align: top;\n",
       "    }\n",
       "\n",
       "    .dataframe thead th {\n",
       "        text-align: right;\n",
       "    }\n",
       "</style>\n",
       "<table border=\"1\" class=\"dataframe\">\n",
       "  <thead>\n",
       "    <tr style=\"text-align: right;\">\n",
       "      <th></th>\n",
       "      <th>Unnamed: 0</th>\n",
       "      <th>Dataset_name</th>\n",
       "      <th>size</th>\n",
       "      <th>Upvotes</th>\n",
       "      <th>Medals</th>\n",
       "      <th>Usability</th>\n",
       "      <th>Date</th>\n",
       "    </tr>\n",
       "  </thead>\n",
       "  <tbody>\n",
       "    <tr>\n",
       "      <th>20</th>\n",
       "      <td>21</td>\n",
       "      <td>Melbourne Housing Snapshot</td>\n",
       "      <td>461 kB</td>\n",
       "      <td>1209</td>\n",
       "      <td>Gold</td>\n",
       "      <td>7.1</td>\n",
       "      <td>2018-06-05</td>\n",
       "    </tr>\n",
       "    <tr>\n",
       "      <th>33</th>\n",
       "      <td>34</td>\n",
       "      <td>Trending YouTube Video Statistics</td>\n",
       "      <td>211 MB</td>\n",
       "      <td>4866</td>\n",
       "      <td>Gold</td>\n",
       "      <td>7.9</td>\n",
       "      <td>2019-06-03</td>\n",
       "    </tr>\n",
       "    <tr>\n",
       "      <th>34</th>\n",
       "      <td>35</td>\n",
       "      <td>Wine Reviews</td>\n",
       "      <td>53 MB</td>\n",
       "      <td>3408</td>\n",
       "      <td>Gold</td>\n",
       "      <td>7.9</td>\n",
       "      <td>2017-11-27</td>\n",
       "    </tr>\n",
       "    <tr>\n",
       "      <th>35</th>\n",
       "      <td>36</td>\n",
       "      <td>Mobile Price Classification</td>\n",
       "      <td>72 kB</td>\n",
       "      <td>1492</td>\n",
       "      <td>Gold</td>\n",
       "      <td>7.1</td>\n",
       "      <td>2018-01-28</td>\n",
       "    </tr>\n",
       "    <tr>\n",
       "      <th>36</th>\n",
       "      <td>37</td>\n",
       "      <td>Ramen Ratings</td>\n",
       "      <td>41 kB</td>\n",
       "      <td>829</td>\n",
       "      <td>Gold</td>\n",
       "      <td>7.1</td>\n",
       "      <td>2018-01-11</td>\n",
       "    </tr>\n",
       "    <tr>\n",
       "      <th>...</th>\n",
       "      <td>...</td>\n",
       "      <td>...</td>\n",
       "      <td>...</td>\n",
       "      <td>...</td>\n",
       "      <td>...</td>\n",
       "      <td>...</td>\n",
       "      <td>...</td>\n",
       "    </tr>\n",
       "    <tr>\n",
       "      <th>8789</th>\n",
       "      <td>9551</td>\n",
       "      <td>siim_dicom_images</td>\n",
       "      <td>2 GB</td>\n",
       "      <td>86</td>\n",
       "      <td>Gold</td>\n",
       "      <td>2.9</td>\n",
       "      <td>2019-06-26</td>\n",
       "    </tr>\n",
       "    <tr>\n",
       "      <th>8805</th>\n",
       "      <td>9568</td>\n",
       "      <td>Chai Time Data Science | CTDS.Show</td>\n",
       "      <td>3 MB</td>\n",
       "      <td>189</td>\n",
       "      <td>Gold</td>\n",
       "      <td>9.1</td>\n",
       "      <td>2020-07-23</td>\n",
       "    </tr>\n",
       "    <tr>\n",
       "      <th>8807</th>\n",
       "      <td>9570</td>\n",
       "      <td>BSE STOCKS DATA - 15 Minute Interval ( Histori...</td>\n",
       "      <td>110 MB</td>\n",
       "      <td>64</td>\n",
       "      <td>Gold</td>\n",
       "      <td>5.0</td>\n",
       "      <td>2020-12-18</td>\n",
       "    </tr>\n",
       "    <tr>\n",
       "      <th>9075</th>\n",
       "      <td>9878</td>\n",
       "      <td>Clubhouse Dataset 9.7M</td>\n",
       "      <td>3 GB</td>\n",
       "      <td>195</td>\n",
       "      <td>Gold</td>\n",
       "      <td>9.4</td>\n",
       "      <td>2021-06-22</td>\n",
       "    </tr>\n",
       "    <tr>\n",
       "      <th>9102</th>\n",
       "      <td>9909</td>\n",
       "      <td>COVID-19 data from World</td>\n",
       "      <td>12 MB</td>\n",
       "      <td>109</td>\n",
       "      <td>Gold</td>\n",
       "      <td>9.4</td>\n",
       "      <td>2022-10-02</td>\n",
       "    </tr>\n",
       "  </tbody>\n",
       "</table>\n",
       "<p>583 rows × 7 columns</p>\n",
       "</div>"
      ],
      "text/plain": [
       "      Unnamed: 0                                       Dataset_name    size  \\\n",
       "20            21                         Melbourne Housing Snapshot  461 kB   \n",
       "33            34                  Trending YouTube Video Statistics  211 MB   \n",
       "34            35                                       Wine Reviews   53 MB   \n",
       "35            36                        Mobile Price Classification   72 kB   \n",
       "36            37                                      Ramen Ratings   41 kB   \n",
       "...          ...                                                ...     ...   \n",
       "8789        9551                                  siim_dicom_images    2 GB   \n",
       "8805        9568                 Chai Time Data Science | CTDS.Show    3 MB   \n",
       "8807        9570  BSE STOCKS DATA - 15 Minute Interval ( Histori...  110 MB   \n",
       "9075        9878                             Clubhouse Dataset 9.7M    3 GB   \n",
       "9102        9909                           COVID-19 data from World   12 MB   \n",
       "\n",
       "      Upvotes Medals  Usability       Date  \n",
       "20       1209   Gold        7.1 2018-06-05  \n",
       "33       4866   Gold        7.9 2019-06-03  \n",
       "34       3408   Gold        7.9 2017-11-27  \n",
       "35       1492   Gold        7.1 2018-01-28  \n",
       "36        829   Gold        7.1 2018-01-11  \n",
       "...       ...    ...        ...        ...  \n",
       "8789       86   Gold        2.9 2019-06-26  \n",
       "8805      189   Gold        9.1 2020-07-23  \n",
       "8807       64   Gold        5.0 2020-12-18  \n",
       "9075      195   Gold        9.4 2021-06-22  \n",
       "9102      109   Gold        9.4 2022-10-02  \n",
       "\n",
       "[583 rows x 7 columns]"
      ]
     },
     "execution_count": 68,
     "metadata": {},
     "output_type": "execute_result"
    }
   ],
   "source": [
    "# get datasets that get gold medels \n",
    "gold_datasets = df[df['Medals'] == 'Gold'] \n",
    "gold_datasets"
   ]
  },
  {
   "cell_type": "code",
   "execution_count": 69,
   "metadata": {},
   "outputs": [
    {
     "data": {
      "text/plain": [
       "<Axes: xlabel='Medals'>"
      ]
     },
     "execution_count": 69,
     "metadata": {},
     "output_type": "execute_result"
    },
    {
     "data": {
      "image/png": "[encoded data removed]",
      "text/plain": [
       "<Figure size 640x480 with 1 Axes>"
      ]
     },
     "metadata": {},
     "output_type": "display_data"
    }
   ],
   "source": [
    "df['Medals'].value_counts(normalize=True).plot(kind='bar')"
   ]
  },
  {
   "cell_type": "code",
   "execution_count": 70,
   "metadata": {},
   "outputs": [
    {
     "data": {
      "text/plain": [
       "Text(0.5, 1.0, 'Year which had maximum dataset uploads')"
      ]
     },
     "execution_count": 70,
     "metadata": {},
     "output_type": "execute_result"
    },
    {
     "data": {
      "image/png": "[encoded data removed]",
      "text/plain": [
       "<Figure size 640x480 with 1 Axes>"
      ]
     },
     "metadata": {},
     "output_type": "display_data"
    }
   ],
   "source": [
    "df['Date'].dt.year.value_counts(normalize=True).plot(kind='bar')\n",
    "plt.title('Year which had maximum dataset uploads')"
   ]
  },
  {
   "cell_type": "code",
   "execution_count": 71,
   "metadata": {},
   "outputs": [
    {
     "data": {
      "text/html": [
       "<div>\n",
       "<style scoped>\n",
       "    .dataframe tbody tr th:only-of-type {\n",
       "        vertical-align: middle;\n",
       "    }\n",
       "\n",
       "    .dataframe tbody tr th {\n",
       "        vertical-align: top;\n",
       "    }\n",
       "\n",
       "    .dataframe thead th {\n",
       "        text-align: right;\n",
       "    }\n",
       "</style>\n",
       "<table border=\"1\" class=\"dataframe\">\n",
       "  <thead>\n",
       "    <tr style=\"text-align: right;\">\n",
       "      <th></th>\n",
       "      <th>Unnamed: 0</th>\n",
       "      <th>Dataset_name</th>\n",
       "      <th>size</th>\n",
       "      <th>Upvotes</th>\n",
       "      <th>Medals</th>\n",
       "      <th>Usability</th>\n",
       "      <th>Date</th>\n",
       "    </tr>\n",
       "  </thead>\n",
       "  <tbody>\n",
       "    <tr>\n",
       "      <th>57</th>\n",
       "      <td>59</td>\n",
       "      <td>Animal Crossing New Horizons Catalog</td>\n",
       "      <td>591 kB</td>\n",
       "      <td>27619</td>\n",
       "      <td>Gold</td>\n",
       "      <td>8.2</td>\n",
       "      <td>2021-06-08</td>\n",
       "    </tr>\n",
       "  </tbody>\n",
       "</table>\n",
       "</div>"
      ],
      "text/plain": [
       "    Unnamed: 0                          Dataset_name    size  Upvotes Medals  \\\n",
       "57          59  Animal Crossing New Horizons Catalog  591 kB    27619   Gold   \n",
       "\n",
       "    Usability       Date  \n",
       "57        8.2 2021-06-08  "
      ]
     },
     "execution_count": 71,
     "metadata": {},
     "output_type": "execute_result"
    }
   ],
   "source": [
    "# get DATASET with highest number of votes\n",
    "df[df['Upvotes'] == df['Upvotes'].max()]"
   ]
  },
  {
   "cell_type": "code",
   "execution_count": 72,
   "metadata": {},
   "outputs": [],
   "source": [
    "# new df to hold datasets that were published after 2022\n",
    "df_2022_up = df[df['Date']>= '2022-01-01']\n",
    "\n",
    "# sort by votes\n",
    "votes_desc_df = df_2022_up.sort_values(by='Upvotes',ascending=False)\n",
    "\n",
    "top_100_df = votes_desc_df.head(100)"
   ]
  },
  {
   "cell_type": "code",
   "execution_count": 73,
   "metadata": {},
   "outputs": [
    {
     "data": {
      "text/html": [
       "<div>\n",
       "<style scoped>\n",
       "    .dataframe tbody tr th:only-of-type {\n",
       "        vertical-align: middle;\n",
       "    }\n",
       "\n",
       "    .dataframe tbody tr th {\n",
       "        vertical-align: top;\n",
       "    }\n",
       "\n",
       "    .dataframe thead th {\n",
       "        text-align: right;\n",
       "    }\n",
       "</style>\n",
       "<table border=\"1\" class=\"dataframe\">\n",
       "  <thead>\n",
       "    <tr style=\"text-align: right;\">\n",
       "      <th></th>\n",
       "      <th>Unnamed: 0</th>\n",
       "      <th>Dataset_name</th>\n",
       "      <th>size</th>\n",
       "      <th>Upvotes</th>\n",
       "      <th>Medals</th>\n",
       "      <th>Usability</th>\n",
       "      <th>Date</th>\n",
       "    </tr>\n",
       "  </thead>\n",
       "  <tbody>\n",
       "    <tr>\n",
       "      <th>902</th>\n",
       "      <td>975</td>\n",
       "      <td>COVID-19 World Vaccination Progress</td>\n",
       "      <td>2 MB</td>\n",
       "      <td>2121</td>\n",
       "      <td>Gold</td>\n",
       "      <td>10.0</td>\n",
       "      <td>2022-03-31</td>\n",
       "    </tr>\n",
       "    <tr>\n",
       "      <th>2263</th>\n",
       "      <td>2450</td>\n",
       "      <td>Date Fruit Datasets</td>\n",
       "      <td>418 kB</td>\n",
       "      <td>1947</td>\n",
       "      <td>Gold</td>\n",
       "      <td>9.4</td>\n",
       "      <td>2022-04-03</td>\n",
       "    </tr>\n",
       "    <tr>\n",
       "      <th>420</th>\n",
       "      <td>450</td>\n",
       "      <td>US Accidents (2016 - 2021)</td>\n",
       "      <td>282 MB</td>\n",
       "      <td>1734</td>\n",
       "      <td>Gold</td>\n",
       "      <td>10.0</td>\n",
       "      <td>2022-03-12</td>\n",
       "    </tr>\n",
       "    <tr>\n",
       "      <th>634</th>\n",
       "      <td>679</td>\n",
       "      <td>International football results from 1872 to 2022</td>\n",
       "      <td>1 MB</td>\n",
       "      <td>1651</td>\n",
       "      <td>Gold</td>\n",
       "      <td>10.0</td>\n",
       "      <td>2022-12-18</td>\n",
       "    </tr>\n",
       "    <tr>\n",
       "      <th>3129</th>\n",
       "      <td>3372</td>\n",
       "      <td>Acoustic Extinguisher Fire Dataset</td>\n",
       "      <td>636 kB</td>\n",
       "      <td>1649</td>\n",
       "      <td>Silver</td>\n",
       "      <td>9.4</td>\n",
       "      <td>2022-04-03</td>\n",
       "    </tr>\n",
       "  </tbody>\n",
       "</table>\n",
       "</div>"
      ],
      "text/plain": [
       "      Unnamed: 0                                      Dataset_name    size  \\\n",
       "902          975               COVID-19 World Vaccination Progress    2 MB   \n",
       "2263        2450                               Date Fruit Datasets  418 kB   \n",
       "420          450                        US Accidents (2016 - 2021)  282 MB   \n",
       "634          679  International football results from 1872 to 2022    1 MB   \n",
       "3129        3372                Acoustic Extinguisher Fire Dataset  636 kB   \n",
       "\n",
       "      Upvotes  Medals  Usability       Date  \n",
       "902      2121    Gold       10.0 2022-03-31  \n",
       "2263     1947    Gold        9.4 2022-04-03  \n",
       "420      1734    Gold       10.0 2022-03-12  \n",
       "634      1651    Gold       10.0 2022-12-18  \n",
       "3129     1649  Silver        9.4 2022-04-03  "
      ]
     },
     "execution_count": 73,
     "metadata": {},
     "output_type": "execute_result"
    }
   ],
   "source": [
    "# get some descriptions\n",
    "top_100_df.head()"
   ]
  },
  {
   "cell_type": "code",
   "execution_count": 74,
   "metadata": {},
   "outputs": [
    {
     "name": "stdout",
     "output_type": "stream",
     "text": [
      "<class 'pandas.core.frame.DataFrame'>\n",
      "Index: 100 entries, 902 to 289\n",
      "Data columns (total 7 columns):\n",
      " #   Column        Non-Null Count  Dtype         \n",
      "---  ------        --------------  -----         \n",
      " 0   Unnamed: 0    100 non-null    int64         \n",
      " 1   Dataset_name  100 non-null    object        \n",
      " 2   Upvotes       100 non-null    int64         \n",
      " 3   Medals        100 non-null    object        \n",
      " 4   Usability     100 non-null    float64       \n",
      " 5   Date          100 non-null    datetime64[ns]\n",
      " 6   size_in_mb    100 non-null    float64       \n",
      "dtypes: datetime64[ns](1), float64(2), int64(2), object(2)\n",
      "memory usage: 6.2+ KB\n"
     ]
    },
    {
     "name": "stderr",
     "output_type": "stream",
     "text": [
      "C:\\Users\\Youssif Allam\\AppData\\Local\\Temp\\ipykernel_2728\\2649517300.py:1: SettingWithCopyWarning: \n",
      "A value is trying to be set on a copy of a slice from a DataFrame.\n",
      "Try using .loc[row_indexer,col_indexer] = value instead\n",
      "\n",
      "See the caveats in the documentation: https://pandas.pydata.org/pandas-docs/stable/user_guide/indexing.html#returning-a-view-versus-a-copy\n",
      "  top_100_df['size_in_mb'] = top_100_df['size'].apply(convert_to_mb);\n"
     ]
    }
   ],
   "source": [
    "top_100_df['size_in_mb'] = top_100_df['size'].apply(convert_to_mb);\n",
    "\n",
    "# delete the old size column\n",
    "del top_100_df['size']\n",
    "\n",
    "top_100_df.info();\n",
    "top_100_df.sample(5);"
   ]
  },
  {
   "cell_type": "code",
   "execution_count": 75,
   "metadata": {},
   "outputs": [
    {
     "data": {
      "text/html": [
       "<div>\n",
       "<style scoped>\n",
       "    .dataframe tbody tr th:only-of-type {\n",
       "        vertical-align: middle;\n",
       "    }\n",
       "\n",
       "    .dataframe tbody tr th {\n",
       "        vertical-align: top;\n",
       "    }\n",
       "\n",
       "    .dataframe thead th {\n",
       "        text-align: right;\n",
       "    }\n",
       "</style>\n",
       "<table border=\"1\" class=\"dataframe\">\n",
       "  <thead>\n",
       "    <tr style=\"text-align: right;\">\n",
       "      <th></th>\n",
       "      <th>count</th>\n",
       "      <th>mean</th>\n",
       "      <th>min</th>\n",
       "      <th>25%</th>\n",
       "      <th>50%</th>\n",
       "      <th>75%</th>\n",
       "      <th>max</th>\n",
       "      <th>std</th>\n",
       "    </tr>\n",
       "  </thead>\n",
       "  <tbody>\n",
       "    <tr>\n",
       "      <th>Unnamed: 0</th>\n",
       "      <td>100.0</td>\n",
       "      <td>2109.77</td>\n",
       "      <td>0.0</td>\n",
       "      <td>814.0</td>\n",
       "      <td>1516.5</td>\n",
       "      <td>2810.5</td>\n",
       "      <td>9511.0</td>\n",
       "      <td>1905.104853</td>\n",
       "    </tr>\n",
       "    <tr>\n",
       "      <th>Upvotes</th>\n",
       "      <td>100.0</td>\n",
       "      <td>509.6</td>\n",
       "      <td>160.0</td>\n",
       "      <td>195.75</td>\n",
       "      <td>312.5</td>\n",
       "      <td>608.75</td>\n",
       "      <td>2121.0</td>\n",
       "      <td>474.429674</td>\n",
       "    </tr>\n",
       "    <tr>\n",
       "      <th>Usability</th>\n",
       "      <td>100.0</td>\n",
       "      <td>9.348</td>\n",
       "      <td>3.1</td>\n",
       "      <td>9.4</td>\n",
       "      <td>10.0</td>\n",
       "      <td>10.0</td>\n",
       "      <td>10.0</td>\n",
       "      <td>1.320811</td>\n",
       "    </tr>\n",
       "    <tr>\n",
       "      <th>Date</th>\n",
       "      <td>100</td>\n",
       "      <td>2022-07-20 20:09:36</td>\n",
       "      <td>2022-01-11 00:00:00</td>\n",
       "      <td>2022-04-03 00:00:00</td>\n",
       "      <td>2022-07-16 12:00:00</td>\n",
       "      <td>2022-11-10 00:00:00</td>\n",
       "      <td>2023-02-07 00:00:00</td>\n",
       "      <td>NaN</td>\n",
       "    </tr>\n",
       "    <tr>\n",
       "      <th>size_in_mb</th>\n",
       "      <td>100.0</td>\n",
       "      <td>1545.652246</td>\n",
       "      <td>0.0</td>\n",
       "      <td>0.07959</td>\n",
       "      <td>1.5</td>\n",
       "      <td>28.0</td>\n",
       "      <td>69632.0</td>\n",
       "      <td>7762.788258</td>\n",
       "    </tr>\n",
       "  </tbody>\n",
       "</table>\n",
       "</div>"
      ],
      "text/plain": [
       "            count                 mean                  min  \\\n",
       "Unnamed: 0  100.0              2109.77                  0.0   \n",
       "Upvotes     100.0                509.6                160.0   \n",
       "Usability   100.0                9.348                  3.1   \n",
       "Date          100  2022-07-20 20:09:36  2022-01-11 00:00:00   \n",
       "size_in_mb  100.0          1545.652246                  0.0   \n",
       "\n",
       "                            25%                  50%                  75%  \\\n",
       "Unnamed: 0                814.0               1516.5               2810.5   \n",
       "Upvotes                  195.75                312.5               608.75   \n",
       "Usability                   9.4                 10.0                 10.0   \n",
       "Date        2022-04-03 00:00:00  2022-07-16 12:00:00  2022-11-10 00:00:00   \n",
       "size_in_mb              0.07959                  1.5                 28.0   \n",
       "\n",
       "                            max          std  \n",
       "Unnamed: 0               9511.0  1905.104853  \n",
       "Upvotes                  2121.0   474.429674  \n",
       "Usability                  10.0     1.320811  \n",
       "Date        2023-02-07 00:00:00          NaN  \n",
       "size_in_mb              69632.0  7762.788258  "
      ]
     },
     "execution_count": 75,
     "metadata": {},
     "output_type": "execute_result"
    }
   ],
   "source": [
    "top_100_df.describe().T"
   ]
  },
  {
   "cell_type": "code",
   "execution_count": null,
   "metadata": {},
   "outputs": [],
   "source": []
  }
 ],
 "metadata": {
  "kernelspec": {
   "display_name": "Python 3",
   "language": "python",
   "name": "python3"
  },
  "language_info": {
   "codemirror_mode": {
    "name": "ipython",
    "version": 3
   },
   "file_extension": ".py",
   "mimetype": "text/x-python",
   "name": "python",
   "nbconvert_exporter": "python",
   "pygments_lexer": "ipython3",
   "version": "3.11.4"
  }
 },
 "nbformat": 4,
 "nbformat_minor": 2
}

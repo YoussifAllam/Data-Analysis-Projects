{
 "cells": [
  {
   "cell_type": "code",
   "execution_count": 5,
   "metadata": {},
   "outputs": [],
   "source": [
    "import numpy as np \n",
    "import pandas as pd\n",
    "import time"
   ]
  },
  {
   "cell_type": "code",
   "execution_count": 6,
   "metadata": {},
   "outputs": [],
   "source": [
    "CITY_DATA = {\n",
    "    'chicago':'chicago.csv' ,\n",
    "    'new york city':'new_york_city.csv' , \n",
    "    'washington':'washington.csv'\n",
    "}"
   ]
  },
  {
   "cell_type": "code",
   "execution_count": 37,
   "metadata": {},
   "outputs": [],
   "source": [
    "def get_filters():\n",
    "    target_city_name = input(\"enter the city name which you need to explore its data \").lower()\n",
    "    while target_city_name not in CITY_DATA.keys():\n",
    "        target_city_name = input(\"enter the city name which you need to explore its data \").lower()\n",
    "    \n",
    "    months = ['jan' , 'feb' , 'march' , 'april' , 'mat' , 'june' , 'all']\n",
    "    while True:\n",
    "        target_month =  input(\"enter the month which you need to explore its data \").lower()\n",
    "        if target_month in months :\n",
    "            break\n",
    "        else:\n",
    "            pass\n",
    "        \n",
    "    days = ['1' , '2' , '3' , '4' , '5' , '6' , '7','all']\n",
    "    while True:\n",
    "        target_day =  input(\"enter the day which you need to explore its data \").lower()\n",
    "        if target_day in days :\n",
    "            break\n",
    "        else:\n",
    "            pass   \n",
    "        \n",
    "    return target_city_name , target_month , target_day , months"
   ]
  },
  {
   "cell_type": "code",
   "execution_count": 38,
   "metadata": {},
   "outputs": [],
   "source": [
    "def load_date( target_city_name , target_month , target_day , months:list ) :\n",
    "    df  = pd.read_csv(CITY_DATA[target_city_name])\n",
    "    \n",
    "    df['Start Time']  = pd.to_datetime(df['Start Time'])\n",
    "    df['month'] = df['Start Time'].dt.month\n",
    "    df['day of week'] = df['Start Time'].dt.dayofweek\n",
    "    df['start hour'] = df['Start Time'].dt.hour\n",
    "    \n",
    "    if target_month != 'all':\n",
    "        month  = months.index(target_month)+1\n",
    "        df[df[month] == month]\n",
    "        \n",
    "    if target_day != 'all':\n",
    "        df[df['day of week'] == target_day]\n",
    "    \n",
    "    return df"
   ]
  },
  {
   "cell_type": "code",
   "execution_count": 39,
   "metadata": {},
   "outputs": [],
   "source": [
    "def time_stats( df :pd.DataFrame ):\n",
    "    start_time = time.time()\n",
    "    print('\\n  Most common month {} '.format(df['month'].mode()[0]))\n",
    "    print('Most common dat {}'.format(df['day of week'].mode()[0]))\n",
    "    print('Most common hour {}'.format(df['start hour'].mode()[0]))\n",
    "    \n",
    "    print('process time is  = {}'.format(time.time() - start_time))"
   ]
  },
  {
   "cell_type": "code",
   "execution_count": 40,
   "metadata": {},
   "outputs": [],
   "source": [
    "def station_status( df  :pd.DataFrame ):\n",
    "    start_time = time.time()\n",
    "    print('\\n Most common start station : {} '.format(df['Start Station'].mode()[0]))\n",
    "    print('Most common end station {}'.format(df['End Station'].mode()[0]))\n",
    "    df['route'] = df['Start Station']+' , '+df['End Station']\n",
    "    \n",
    "    print('Most common route {}'.format(df['route'].mode()[0]))\n",
    "    \n",
    "    print('process time is  = {}'.format(time.time() - start_time))"
   ]
  },
  {
   "cell_type": "code",
   "execution_count": 41,
   "metadata": {},
   "outputs": [],
   "source": [
    "def trip_duration_time( df  :pd.DataFrame ):\n",
    "    start_time = time.time()\n",
    "    print('\\n total time : {} '.format((df['Trip Duration'].sum()).round()))\n",
    "    print('avarge time  {}'.format((df['Trip Duration'].mean()).round()))\n",
    "    \n",
    "    \n",
    "    print('process time is  = {}'.format(time.time() - start_time))"
   ]
  },
  {
   "cell_type": "code",
   "execution_count": 42,
   "metadata": {},
   "outputs": [],
   "source": [
    "def user_stats( df : pd.DataFrame , city):\n",
    "    start_time = time.time()\n",
    "    print('\\n', df['User Type'].value_counts().to_frame() )\n",
    "    \n",
    "    if  city != 'washington':\n",
    "        print( df['Gender'].value_counts().to_frame() )\n",
    "        print('Most common year {}'.format(df['Birth Year'].mode()[0]))\n",
    "        print('Max  year {}'.format(df['Birth Year'].max()))\n",
    "        print('Min year {}'.format(df['Birth Year'].min()))\n",
    "    print('process time is  = {}'.format(time.time() - start_time))\n",
    "    "
   ]
  },
  {
   "cell_type": "code",
   "execution_count": 43,
   "metadata": {},
   "outputs": [
    {
     "data": {
      "text/html": [
       "<div>\n",
       "<style scoped>\n",
       "    .dataframe tbody tr th:only-of-type {\n",
       "        vertical-align: middle;\n",
       "    }\n",
       "\n",
       "    .dataframe tbody tr th {\n",
       "        vertical-align: top;\n",
       "    }\n",
       "\n",
       "    .dataframe thead th {\n",
       "        text-align: right;\n",
       "    }\n",
       "</style>\n",
       "<table border=\"1\" class=\"dataframe\">\n",
       "  <thead>\n",
       "    <tr style=\"text-align: right;\">\n",
       "      <th></th>\n",
       "      <th>Unnamed: 0</th>\n",
       "      <th>Start Time</th>\n",
       "      <th>End Time</th>\n",
       "      <th>Trip Duration</th>\n",
       "      <th>Start Station</th>\n",
       "      <th>End Station</th>\n",
       "      <th>User Type</th>\n",
       "      <th>Gender</th>\n",
       "      <th>Birth Year</th>\n",
       "      <th>month</th>\n",
       "      <th>day of week</th>\n",
       "      <th>start hour</th>\n",
       "    </tr>\n",
       "  </thead>\n",
       "  <tbody>\n",
       "    <tr>\n",
       "      <th>0</th>\n",
       "      <td>1423854</td>\n",
       "      <td>2017-06-23 15:09:00</td>\n",
       "      <td>6/23/2017 15:14</td>\n",
       "      <td>321</td>\n",
       "      <td>Wood St &amp; Hubbard St</td>\n",
       "      <td>Damen Ave &amp; Chicago Ave</td>\n",
       "      <td>Subscriber</td>\n",
       "      <td>Male</td>\n",
       "      <td>1992.0</td>\n",
       "      <td>6</td>\n",
       "      <td>4</td>\n",
       "      <td>15</td>\n",
       "    </tr>\n",
       "    <tr>\n",
       "      <th>1</th>\n",
       "      <td>955915</td>\n",
       "      <td>2017-05-25 18:19:00</td>\n",
       "      <td>5/25/2017 18:45</td>\n",
       "      <td>1610</td>\n",
       "      <td>Theater on the Lake</td>\n",
       "      <td>Sheffield Ave &amp; Waveland Ave</td>\n",
       "      <td>Subscriber</td>\n",
       "      <td>Female</td>\n",
       "      <td>1992.0</td>\n",
       "      <td>5</td>\n",
       "      <td>3</td>\n",
       "      <td>18</td>\n",
       "    </tr>\n",
       "    <tr>\n",
       "      <th>2</th>\n",
       "      <td>9031</td>\n",
       "      <td>2017-01-04 08:27:00</td>\n",
       "      <td>1/4/2017 8:34</td>\n",
       "      <td>416</td>\n",
       "      <td>May St &amp; Taylor St</td>\n",
       "      <td>Wood St &amp; Taylor St</td>\n",
       "      <td>Subscriber</td>\n",
       "      <td>Male</td>\n",
       "      <td>1981.0</td>\n",
       "      <td>1</td>\n",
       "      <td>2</td>\n",
       "      <td>8</td>\n",
       "    </tr>\n",
       "    <tr>\n",
       "      <th>3</th>\n",
       "      <td>304487</td>\n",
       "      <td>2017-03-06 13:49:00</td>\n",
       "      <td>3/6/2017 13:55</td>\n",
       "      <td>350</td>\n",
       "      <td>Christiana Ave &amp; Lawrence Ave</td>\n",
       "      <td>St. Louis Ave &amp; Balmoral Ave</td>\n",
       "      <td>Subscriber</td>\n",
       "      <td>Male</td>\n",
       "      <td>1986.0</td>\n",
       "      <td>3</td>\n",
       "      <td>0</td>\n",
       "      <td>13</td>\n",
       "    </tr>\n",
       "    <tr>\n",
       "      <th>4</th>\n",
       "      <td>45207</td>\n",
       "      <td>2017-01-17 14:53:00</td>\n",
       "      <td>1/17/2017 15:02</td>\n",
       "      <td>534</td>\n",
       "      <td>Clark St &amp; Randolph St</td>\n",
       "      <td>Desplaines St &amp; Jackson Blvd</td>\n",
       "      <td>Subscriber</td>\n",
       "      <td>Male</td>\n",
       "      <td>1975.0</td>\n",
       "      <td>1</td>\n",
       "      <td>1</td>\n",
       "      <td>14</td>\n",
       "    </tr>\n",
       "  </tbody>\n",
       "</table>\n",
       "</div>"
      ],
      "text/plain": [
       "   Unnamed: 0          Start Time         End Time  Trip Duration  \\\n",
       "0     1423854 2017-06-23 15:09:00  6/23/2017 15:14            321   \n",
       "1      955915 2017-05-25 18:19:00  5/25/2017 18:45           1610   \n",
       "2        9031 2017-01-04 08:27:00    1/4/2017 8:34            416   \n",
       "3      304487 2017-03-06 13:49:00   3/6/2017 13:55            350   \n",
       "4       45207 2017-01-17 14:53:00  1/17/2017 15:02            534   \n",
       "\n",
       "                   Start Station                   End Station   User Type  \\\n",
       "0           Wood St & Hubbard St       Damen Ave & Chicago Ave  Subscriber   \n",
       "1            Theater on the Lake  Sheffield Ave & Waveland Ave  Subscriber   \n",
       "2             May St & Taylor St           Wood St & Taylor St  Subscriber   \n",
       "3  Christiana Ave & Lawrence Ave  St. Louis Ave & Balmoral Ave  Subscriber   \n",
       "4         Clark St & Randolph St  Desplaines St & Jackson Blvd  Subscriber   \n",
       "\n",
       "   Gender  Birth Year  month  day of week  start hour  \n",
       "0    Male      1992.0      6            4          15  \n",
       "1  Female      1992.0      5            3          18  \n",
       "2    Male      1981.0      1            2           8  \n",
       "3    Male      1986.0      3            0          13  \n",
       "4    Male      1975.0      1            1          14  "
      ]
     },
     "execution_count": 43,
     "metadata": {},
     "output_type": "execute_result"
    }
   ],
   "source": [
    "months = ['jan' , 'feb' , 'march' , 'april' , 'mat' , 'june' , 'all']\n",
    "df = load_date( 'chicago' ,'all' , 'all' , months )\n",
    "df.head()"
   ]
  },
  {
   "cell_type": "code",
   "execution_count": 44,
   "metadata": {},
   "outputs": [
    {
     "name": "stdout",
     "output_type": "stream",
     "text": [
      "\n",
      "  Most common month 6 \n",
      "Most common dat 1\n",
      "Most common hour 17\n",
      "process time is  = 0.012964487075805664\n"
     ]
    }
   ],
   "source": [
    "time_stats(df)"
   ]
  },
  {
   "cell_type": "code",
   "execution_count": 47,
   "metadata": {},
   "outputs": [
    {
     "name": "stdout",
     "output_type": "stream",
     "text": [
      "\n",
      " Most common start station : Streeter Dr & Grand Ave \n",
      "Most common end station Streeter Dr & Grand Ave\n",
      "Most common route Lake Shore Dr & Monroe St , Streeter Dr & Grand Ave\n",
      "process time is  = 0.6751503944396973\n"
     ]
    }
   ],
   "source": [
    "station_status(df)"
   ]
  },
  {
   "cell_type": "code",
   "execution_count": 45,
   "metadata": {},
   "outputs": [
    {
     "name": "stdout",
     "output_type": "stream",
     "text": [
      "\n",
      " total time : 280871787 \n",
      "avarge time  936.0\n",
      "process time is  = 0.0009987354278564453\n"
     ]
    }
   ],
   "source": [
    "trip_duration_time(df)"
   ]
  },
  {
   "cell_type": "code",
   "execution_count": 46,
   "metadata": {},
   "outputs": [
    {
     "name": "stdout",
     "output_type": "stream",
     "text": [
      "\n",
      "              count\n",
      "User Type         \n",
      "Subscriber  238889\n",
      "Customer     61110\n",
      "Dependent        1\n",
      "         count\n",
      "Gender        \n",
      "Male    181190\n",
      "Female   57758\n",
      "Most common year 1989.0\n",
      "Max  year 2016.0\n",
      "Min year 1899.0\n",
      "process time is  = 0.08078169822692871\n"
     ]
    }
   ],
   "source": [
    "user_stats(df , 'chicago')"
   ]
  },
  {
   "cell_type": "code",
   "execution_count": null,
   "metadata": {},
   "outputs": [],
   "source": []
  },
  {
   "cell_type": "code",
   "execution_count": null,
   "metadata": {},
   "outputs": [],
   "source": []
  }
 ],
 "metadata": {
  "kernelspec": {
   "display_name": "Python 3",
   "language": "python",
   "name": "python3"
  },
  "language_info": {
   "codemirror_mode": {
    "name": "ipython",
    "version": 3
   },
   "file_extension": ".py",
   "mimetype": "text/x-python",
   "name": "python",
   "nbconvert_exporter": "python",
   "pygments_lexer": "ipython3",
   "version": "3.11.4"
  }
 },
 "nbformat": 4,
 "nbformat_minor": 2
}
